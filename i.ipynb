{
 "cells": [
  {
   "cell_type": "code",
   "execution_count": 2,
   "metadata": {},
   "outputs": [
    {
     "name": "stdout",
     "output_type": "stream",
     "text": [
      "src_bytes,srv_count,dst_host_srv_count,dst_bytes,dst_host_same_src_port_rate,hot,dst_host_count,duration,dst_host_srv_rerror_rate,dst_host_rerror_rate\n",
      "491,2,25,0,0.17,0,150,0,0.0,0.05\n",
      "\n"
     ]
    }
   ],
   "source": [
    "import pandas as pd\n",
    "\n",
    "# Define the list of columns to keep\n",
    "columns_to_keep = [\n",
    "    'src_bytes', \n",
    "    'srv_count', \n",
    "    'dst_host_srv_count', \n",
    "    'dst_bytes', \n",
    "    'dst_host_same_src_port_rate', \n",
    "    'hot', \n",
    "    'dst_host_count', \n",
    "    'duration', \n",
    "    'dst_host_srv_rerror_rate', \n",
    "    'dst_host_rerror_rate'\n",
    "]\n",
    "\n",
    "# Read the CSV file\n",
    "df = pd.read_csv('./Train_data.csv')\n",
    "\n",
    "# Drop the 'class' column if it exists\n",
    "if 'class' in df.columns:\n",
    "    df = df.drop('class', axis=1)\n",
    "\n",
    "# Filter the DataFrame to include only the desired columns\n",
    "df_filtered = df[columns_to_keep]\n",
    "\n",
    "# Select the first row\n",
    "one_row = df_filtered.iloc[[0]]\n",
    "\n",
    "# Convert the one-row DataFrame to CSV format as a string and print it (optional)\n",
    "csv_output = one_row.to_csv(index=False)\n",
    "print(csv_output)\n",
    "\n",
    "# Save the CSV output to a file with a custom name\n",
    "custom_filename = \"normal.csv\"\n",
    "one_row.to_csv(custom_filename, index=False)\n"
   ]
  },
  {
   "cell_type": "code",
   "execution_count": 3,
   "metadata": {},
   "outputs": [
    {
     "name": "stdout",
     "output_type": "stream",
     "text": [
      "src_bytes,srv_count,dst_host_srv_count,dst_bytes,dst_host_same_src_port_rate,hot,dst_host_count,duration,dst_host_srv_rerror_rate,dst_host_rerror_rate\n",
      "0,6,26,0,0.0,0,255,0,0.0,0.0\n",
      "\n"
     ]
    }
   ],
   "source": [
    "import pandas as pd\n",
    "\n",
    "# Define the list of columns to keep (the 10 input features)\n",
    "columns_to_keep = [\n",
    "    'src_bytes', \n",
    "    'srv_count', \n",
    "    'dst_host_srv_count', \n",
    "    'dst_bytes', \n",
    "    'dst_host_same_src_port_rate', \n",
    "    'hot', \n",
    "    'dst_host_count', \n",
    "    'duration', \n",
    "    'dst_host_srv_rerror_rate', \n",
    "    'dst_host_rerror_rate'\n",
    "]\n",
    "\n",
    "# Read the CSV file\n",
    "df = pd.read_csv('./Train_data.csv')\n",
    "\n",
    "# Filter the DataFrame to get rows where class is \"anomaly\"\n",
    "anomaly_rows = df[df['class'] == 'anomaly']\n",
    "\n",
    "# Check if any anomaly row is found\n",
    "if not anomaly_rows.empty:\n",
    "    # Select the first anomaly row\n",
    "    one_anomaly_row = anomaly_rows.iloc[[0]]\n",
    "    \n",
    "    # Filter the row to include only the desired columns\n",
    "    one_anomaly_row_filtered = one_anomaly_row[columns_to_keep]\n",
    "    \n",
    "    # Convert the one-row DataFrame to CSV format as a string and print it (optional)\n",
    "    csv_output = one_anomaly_row_filtered.to_csv(index=False)\n",
    "    print(csv_output)\n",
    "    \n",
    "    # Save the CSV output to a file with a custom name\n",
    "    custom_filename = \"my_anomaly_row.csv\"\n",
    "    one_anomaly_row_filtered.to_csv(custom_filename, index=False)\n",
    "else:\n",
    "    print(\"No anomaly row found in the data.\")\n"
   ]
  },
  {
   "cell_type": "code",
   "execution_count": null,
   "metadata": {},
   "outputs": [],
   "source": []
  }
 ],
 "metadata": {
  "kernelspec": {
   "display_name": "base",
   "language": "python",
   "name": "python3"
  },
  "language_info": {
   "codemirror_mode": {
    "name": "ipython",
    "version": 3
   },
   "file_extension": ".py",
   "mimetype": "text/x-python",
   "name": "python",
   "nbconvert_exporter": "python",
   "pygments_lexer": "ipython3",
   "version": "3.12.7"
  }
 },
 "nbformat": 4,
 "nbformat_minor": 2
}
